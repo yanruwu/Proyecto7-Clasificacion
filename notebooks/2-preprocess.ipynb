{
 "cells": [
  {
   "cell_type": "markdown",
   "metadata": {},
   "source": [
    "# Preprocesamiento"
   ]
  },
  {
   "cell_type": "code",
   "execution_count": 201,
   "metadata": {},
   "outputs": [],
   "source": [
    "import pandas as pd\n",
    "\n",
    "import sys\n",
    "sys.path.append(\"..\")\n",
    "\n",
    "from src.support_prep import *\n",
    "from src.support_models import *    \n",
    "\n",
    "import pickle"
   ]
  },
  {
   "cell_type": "code",
   "execution_count": 202,
   "metadata": {},
   "outputs": [
    {
     "name": "stdout",
     "output_type": "stream",
     "text": [
      "The autoreload extension is already loaded. To reload it, use:\n",
      "  %reload_ext autoreload\n"
     ]
    }
   ],
   "source": [
    "%load_ext autoreload\n",
    "%autoreload 2"
   ]
  },
  {
   "cell_type": "code",
   "execution_count": 203,
   "metadata": {},
   "outputs": [],
   "source": [
    "df = pd.read_pickle(\"../datos/clean.pkl\")"
   ]
  },
  {
   "cell_type": "code",
   "execution_count": 204,
   "metadata": {},
   "outputs": [
    {
     "data": {
      "text/html": [
       "<div>\n",
       "<style scoped>\n",
       "    .dataframe tbody tr th:only-of-type {\n",
       "        vertical-align: middle;\n",
       "    }\n",
       "\n",
       "    .dataframe tbody tr th {\n",
       "        vertical-align: top;\n",
       "    }\n",
       "\n",
       "    .dataframe thead th {\n",
       "        text-align: right;\n",
       "    }\n",
       "</style>\n",
       "<table border=\"1\" class=\"dataframe\">\n",
       "  <thead>\n",
       "    <tr style=\"text-align: right;\">\n",
       "      <th></th>\n",
       "      <th>Age</th>\n",
       "      <th>Attrition</th>\n",
       "      <th>BusinessTravel</th>\n",
       "      <th>Department</th>\n",
       "      <th>DistanceFromHome</th>\n",
       "      <th>Education</th>\n",
       "      <th>EducationField</th>\n",
       "      <th>EmployeeID</th>\n",
       "      <th>Gender</th>\n",
       "      <th>JobLevel</th>\n",
       "      <th>...</th>\n",
       "      <th>TotalWorkingYears</th>\n",
       "      <th>TrainingTimesLastYear</th>\n",
       "      <th>YearsAtCompany</th>\n",
       "      <th>YearsSinceLastPromotion</th>\n",
       "      <th>YearsWithCurrManager</th>\n",
       "      <th>EnvironmentSatisfaction</th>\n",
       "      <th>JobSatisfaction</th>\n",
       "      <th>WorkLifeBalance</th>\n",
       "      <th>JobInvolvement</th>\n",
       "      <th>PerformanceRating</th>\n",
       "    </tr>\n",
       "  </thead>\n",
       "  <tbody>\n",
       "    <tr>\n",
       "      <th>0</th>\n",
       "      <td>51.0</td>\n",
       "      <td>No</td>\n",
       "      <td>Travel_Rarely</td>\n",
       "      <td>Sales</td>\n",
       "      <td>6.0</td>\n",
       "      <td>2.0</td>\n",
       "      <td>Life Sciences</td>\n",
       "      <td>1.0</td>\n",
       "      <td>Female</td>\n",
       "      <td>1.0</td>\n",
       "      <td>...</td>\n",
       "      <td>1.0</td>\n",
       "      <td>6.0</td>\n",
       "      <td>1.0</td>\n",
       "      <td>0.0</td>\n",
       "      <td>0.0</td>\n",
       "      <td>3.0</td>\n",
       "      <td>4.0</td>\n",
       "      <td>2.0</td>\n",
       "      <td>3.0</td>\n",
       "      <td>3.0</td>\n",
       "    </tr>\n",
       "    <tr>\n",
       "      <th>1</th>\n",
       "      <td>31.0</td>\n",
       "      <td>Yes</td>\n",
       "      <td>Travel_Frequently</td>\n",
       "      <td>Research &amp; Development</td>\n",
       "      <td>10.0</td>\n",
       "      <td>1.0</td>\n",
       "      <td>Life Sciences</td>\n",
       "      <td>2.0</td>\n",
       "      <td>Female</td>\n",
       "      <td>1.0</td>\n",
       "      <td>...</td>\n",
       "      <td>6.0</td>\n",
       "      <td>3.0</td>\n",
       "      <td>5.0</td>\n",
       "      <td>1.0</td>\n",
       "      <td>4.0</td>\n",
       "      <td>3.0</td>\n",
       "      <td>2.0</td>\n",
       "      <td>4.0</td>\n",
       "      <td>2.0</td>\n",
       "      <td>4.0</td>\n",
       "    </tr>\n",
       "    <tr>\n",
       "      <th>2</th>\n",
       "      <td>32.0</td>\n",
       "      <td>No</td>\n",
       "      <td>Travel_Frequently</td>\n",
       "      <td>Research &amp; Development</td>\n",
       "      <td>17.0</td>\n",
       "      <td>4.0</td>\n",
       "      <td>Other</td>\n",
       "      <td>3.0</td>\n",
       "      <td>Male</td>\n",
       "      <td>4.0</td>\n",
       "      <td>...</td>\n",
       "      <td>5.0</td>\n",
       "      <td>2.0</td>\n",
       "      <td>5.0</td>\n",
       "      <td>0.0</td>\n",
       "      <td>3.0</td>\n",
       "      <td>2.0</td>\n",
       "      <td>2.0</td>\n",
       "      <td>1.0</td>\n",
       "      <td>3.0</td>\n",
       "      <td>3.0</td>\n",
       "    </tr>\n",
       "    <tr>\n",
       "      <th>3</th>\n",
       "      <td>38.0</td>\n",
       "      <td>No</td>\n",
       "      <td>Non-Travel</td>\n",
       "      <td>Research &amp; Development</td>\n",
       "      <td>2.0</td>\n",
       "      <td>5.0</td>\n",
       "      <td>Life Sciences</td>\n",
       "      <td>4.0</td>\n",
       "      <td>Male</td>\n",
       "      <td>3.0</td>\n",
       "      <td>...</td>\n",
       "      <td>13.0</td>\n",
       "      <td>5.0</td>\n",
       "      <td>8.0</td>\n",
       "      <td>7.0</td>\n",
       "      <td>5.0</td>\n",
       "      <td>4.0</td>\n",
       "      <td>4.0</td>\n",
       "      <td>3.0</td>\n",
       "      <td>2.0</td>\n",
       "      <td>3.0</td>\n",
       "    </tr>\n",
       "    <tr>\n",
       "      <th>4</th>\n",
       "      <td>32.0</td>\n",
       "      <td>No</td>\n",
       "      <td>Travel_Rarely</td>\n",
       "      <td>Research &amp; Development</td>\n",
       "      <td>10.0</td>\n",
       "      <td>1.0</td>\n",
       "      <td>Medical</td>\n",
       "      <td>5.0</td>\n",
       "      <td>Male</td>\n",
       "      <td>1.0</td>\n",
       "      <td>...</td>\n",
       "      <td>9.0</td>\n",
       "      <td>2.0</td>\n",
       "      <td>6.0</td>\n",
       "      <td>0.0</td>\n",
       "      <td>4.0</td>\n",
       "      <td>4.0</td>\n",
       "      <td>1.0</td>\n",
       "      <td>3.0</td>\n",
       "      <td>3.0</td>\n",
       "      <td>3.0</td>\n",
       "    </tr>\n",
       "  </tbody>\n",
       "</table>\n",
       "<p>5 rows × 26 columns</p>\n",
       "</div>"
      ],
      "text/plain": [
       "    Age Attrition     BusinessTravel              Department  \\\n",
       "0  51.0        No      Travel_Rarely                   Sales   \n",
       "1  31.0       Yes  Travel_Frequently  Research & Development   \n",
       "2  32.0        No  Travel_Frequently  Research & Development   \n",
       "3  38.0        No         Non-Travel  Research & Development   \n",
       "4  32.0        No      Travel_Rarely  Research & Development   \n",
       "\n",
       "   DistanceFromHome Education EducationField  EmployeeID  Gender JobLevel  \\\n",
       "0               6.0       2.0  Life Sciences         1.0  Female      1.0   \n",
       "1              10.0       1.0  Life Sciences         2.0  Female      1.0   \n",
       "2              17.0       4.0          Other         3.0    Male      4.0   \n",
       "3               2.0       5.0  Life Sciences         4.0    Male      3.0   \n",
       "4              10.0       1.0        Medical         5.0    Male      1.0   \n",
       "\n",
       "   ... TotalWorkingYears TrainingTimesLastYear  YearsAtCompany  \\\n",
       "0  ...               1.0                   6.0             1.0   \n",
       "1  ...               6.0                   3.0             5.0   \n",
       "2  ...               5.0                   2.0             5.0   \n",
       "3  ...              13.0                   5.0             8.0   \n",
       "4  ...               9.0                   2.0             6.0   \n",
       "\n",
       "   YearsSinceLastPromotion  YearsWithCurrManager EnvironmentSatisfaction  \\\n",
       "0                      0.0                   0.0                     3.0   \n",
       "1                      1.0                   4.0                     3.0   \n",
       "2                      0.0                   3.0                     2.0   \n",
       "3                      7.0                   5.0                     4.0   \n",
       "4                      0.0                   4.0                     4.0   \n",
       "\n",
       "   JobSatisfaction  WorkLifeBalance  JobInvolvement  PerformanceRating  \n",
       "0              4.0              2.0             3.0                3.0  \n",
       "1              2.0              4.0             2.0                4.0  \n",
       "2              2.0              1.0             3.0                3.0  \n",
       "3              4.0              3.0             2.0                3.0  \n",
       "4              1.0              3.0             3.0                3.0  \n",
       "\n",
       "[5 rows x 26 columns]"
      ]
     },
     "execution_count": 204,
     "metadata": {},
     "output_type": "execute_result"
    }
   ],
   "source": [
    "df.head()"
   ]
  },
  {
   "cell_type": "markdown",
   "metadata": {},
   "source": [
    "## Encoding"
   ]
  },
  {
   "cell_type": "markdown",
   "metadata": {},
   "source": [
    "Para realizar el encoding, vamos a necesitar convertir nuestra variable respuesta en binario."
   ]
  },
  {
   "cell_type": "code",
   "execution_count": 205,
   "metadata": {},
   "outputs": [],
   "source": [
    "df[\"Attrition\"] = df[\"Attrition\"].map({\"No\":0, \"Yes\":1})"
   ]
  },
  {
   "cell_type": "code",
   "execution_count": 206,
   "metadata": {},
   "outputs": [],
   "source": [
    "cat_cols = df.select_dtypes(\"O\").columns\n",
    "num_cols = df.select_dtypes(\"number\").columns.drop([\"Attrition\", \"EmployeeID\"])"
   ]
  },
  {
   "cell_type": "code",
   "execution_count": 207,
   "metadata": {},
   "outputs": [],
   "source": [
    "df = df.drop(columns=\"EmployeeID\")"
   ]
  },
  {
   "cell_type": "code",
   "execution_count": 208,
   "metadata": {},
   "outputs": [],
   "source": [
    "cat_diff = detectar_orden_cat(df = df, lista_cat=cat_cols,var_respuesta=\"Attrition\", show=False)"
   ]
  },
  {
   "cell_type": "code",
   "execution_count": 209,
   "metadata": {},
   "outputs": [],
   "source": [
    "cat_no_diff = cat_cols.drop(cat_diff)"
   ]
  },
  {
   "cell_type": "code",
   "execution_count": 210,
   "metadata": {},
   "outputs": [],
   "source": [
    "df_target, target = encode_target(data = df, columns = cat_diff, response_var=\"Attrition\")"
   ]
  },
  {
   "cell_type": "code",
   "execution_count": 211,
   "metadata": {},
   "outputs": [],
   "source": [
    "df_oh, onehot = encode_onehot(df, columns = cat_no_diff)"
   ]
  },
  {
   "cell_type": "code",
   "execution_count": 212,
   "metadata": {},
   "outputs": [],
   "source": [
    "df = pd.concat([df[\"Attrition\"], df_target.drop(columns=cat_no_diff), df_oh], axis = 1)"
   ]
  },
  {
   "cell_type": "code",
   "execution_count": 213,
   "metadata": {},
   "outputs": [],
   "source": [
    "with open('../models/onehot.pkl', 'wb') as file:\n",
    "    pickle.dump(onehot, file)\n",
    "with open('../models/target.pkl', 'wb') as file:\n",
    "    pickle.dump(target, file)"
   ]
  },
  {
   "cell_type": "markdown",
   "metadata": {},
   "source": [
    "## Feature Scaling"
   ]
  },
  {
   "cell_type": "code",
   "execution_count": 214,
   "metadata": {},
   "outputs": [],
   "source": [
    "df_scaled, scaler = scale_data(data = df, columns=df.columns.drop(df_oh.columns).drop(\"Attrition\"), method = \"minmax\")"
   ]
  },
  {
   "cell_type": "code",
   "execution_count": 215,
   "metadata": {},
   "outputs": [],
   "source": [
    "df[df_scaled.columns] = df_scaled"
   ]
  },
  {
   "cell_type": "code",
   "execution_count": 216,
   "metadata": {},
   "outputs": [],
   "source": [
    "with open('../models/scaler.pkl', 'wb') as file:\n",
    "    pickle.dump(scaler, file)"
   ]
  },
  {
   "cell_type": "markdown",
   "metadata": {},
   "source": [
    "## Outliers"
   ]
  },
  {
   "cell_type": "code",
   "execution_count": 219,
   "metadata": {},
   "outputs": [
    {
     "name": "stderr",
     "output_type": "stream",
     "text": [
      "100%|██████████| 25/25 [01:17<00:00,  3.10s/it]\n"
     ]
    }
   ],
   "source": [
    "df_outliers, ifo = find_outliers(data = df.drop(columns = \"Attrition\"), columns = df.drop(columns = \"Attrition\").columns, method = \"ifo\")"
   ]
  },
  {
   "cell_type": "code",
   "execution_count": 220,
   "metadata": {},
   "outputs": [],
   "source": [
    "df.drop(index=df_outliers.index, inplace=True)"
   ]
  },
  {
   "cell_type": "code",
   "execution_count": 221,
   "metadata": {},
   "outputs": [],
   "source": [
    "df.reset_index(drop=True, inplace=True)"
   ]
  },
  {
   "cell_type": "code",
   "execution_count": 222,
   "metadata": {},
   "outputs": [
    {
     "name": "stderr",
     "output_type": "stream",
     "text": [
      "100%|██████████| 25/25 [00:02<00:00,  8.70it/s]\n"
     ]
    }
   ],
   "source": [
    "df_outliers, lof = find_outliers(data = df.drop(columns = \"Attrition\"), columns = df.drop(columns = \"Attrition\").columns, method = \"lof\")"
   ]
  },
  {
   "cell_type": "code",
   "execution_count": 223,
   "metadata": {},
   "outputs": [],
   "source": [
    "df.loc[df_outliers.index, num_cols] = np.nan"
   ]
  },
  {
   "cell_type": "code",
   "execution_count": 224,
   "metadata": {},
   "outputs": [
    {
     "name": "stdout",
     "output_type": "stream",
     "text": [
      "[IterativeImputer] Completing matrix with shape (4318, 38)\n",
      "[IterativeImputer] Ending imputation round 1/10, elapsed time 23.10\n",
      "[IterativeImputer] Change: 1.1686352949733543, scaled tolerance: 0.0010000000000000002 \n",
      "[IterativeImputer] Ending imputation round 2/10, elapsed time 47.12\n",
      "[IterativeImputer] Change: 0.76634811444325, scaled tolerance: 0.0010000000000000002 \n",
      "[IterativeImputer] Ending imputation round 3/10, elapsed time 72.38\n",
      "[IterativeImputer] Change: 0.49739678077655425, scaled tolerance: 0.0010000000000000002 \n",
      "[IterativeImputer] Ending imputation round 4/10, elapsed time 99.01\n",
      "[IterativeImputer] Change: 0.583858914023746, scaled tolerance: 0.0010000000000000002 \n",
      "[IterativeImputer] Ending imputation round 5/10, elapsed time 127.38\n",
      "[IterativeImputer] Change: 0.49759133511224474, scaled tolerance: 0.0010000000000000002 \n",
      "[IterativeImputer] Ending imputation round 6/10, elapsed time 157.22\n",
      "[IterativeImputer] Change: 0.5037420126028298, scaled tolerance: 0.0010000000000000002 \n",
      "[IterativeImputer] Ending imputation round 7/10, elapsed time 188.88\n",
      "[IterativeImputer] Change: 0.6148249012085083, scaled tolerance: 0.0010000000000000002 \n",
      "[IterativeImputer] Ending imputation round 8/10, elapsed time 221.95\n",
      "[IterativeImputer] Change: 0.5592792922856352, scaled tolerance: 0.0010000000000000002 \n",
      "[IterativeImputer] Ending imputation round 9/10, elapsed time 257.30\n",
      "[IterativeImputer] Change: 0.5526754048644208, scaled tolerance: 0.0010000000000000002 \n",
      "[IterativeImputer] Ending imputation round 10/10, elapsed time 295.56\n",
      "[IterativeImputer] Change: 0.5396366176802471, scaled tolerance: 0.0010000000000000002 \n"
     ]
    }
   ],
   "source": [
    "df_out_impute, out_imputer = impute_nulls(df)"
   ]
  },
  {
   "cell_type": "code",
   "execution_count": 225,
   "metadata": {},
   "outputs": [],
   "source": [
    "df = df_out_impute"
   ]
  },
  {
   "cell_type": "code",
   "execution_count": 226,
   "metadata": {},
   "outputs": [],
   "source": [
    "with open('../models/ifo.pkl', 'wb') as file:\n",
    "    pickle.dump(ifo, file)\n",
    "with open('../models/lof.pkl', 'wb') as file:\n",
    "    pickle.dump(lof, file)\n",
    "with open('../models/out_imputer.pkl', 'wb') as file:\n",
    "    pickle.dump(out_imputer, file)"
   ]
  },
  {
   "cell_type": "code",
   "execution_count": 227,
   "metadata": {},
   "outputs": [],
   "source": [
    "df.to_pickle(\"../datos/prepped.pkl\")"
   ]
  }
 ],
 "metadata": {
  "kernelspec": {
   "display_name": "Python 3",
   "language": "python",
   "name": "python3"
  },
  "language_info": {
   "codemirror_mode": {
    "name": "ipython",
    "version": 3
   },
   "file_extension": ".py",
   "mimetype": "text/x-python",
   "name": "python",
   "nbconvert_exporter": "python",
   "pygments_lexer": "ipython3",
   "version": "3.11.9"
  }
 },
 "nbformat": 4,
 "nbformat_minor": 2
}
